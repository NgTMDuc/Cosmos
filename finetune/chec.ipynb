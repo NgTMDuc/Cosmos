{
 "cells": [
  {
   "cell_type": "code",
   "execution_count": 11,
   "id": "f22f6761",
   "metadata": {},
   "outputs": [],
   "source": [
    "import os \n",
    "import numpy as np\n",
    "import torch"
   ]
  },
  {
   "cell_type": "code",
   "execution_count": 4,
   "id": "ea0f2424",
   "metadata": {},
   "outputs": [],
   "source": [
    "path = \"/home/jovyan/shared/tienhuu060102/data-petct/PET_report_paired/PETCT_2019/THANG 10/images/whole_body/day_08_patient_146.npy\""
   ]
  },
  {
   "cell_type": "code",
   "execution_count": 12,
   "id": "b093ab58",
   "metadata": {},
   "outputs": [],
   "source": [
    "image = torch.from_numpy(np.load(path)).float()"
   ]
  },
  {
   "cell_type": "code",
   "execution_count": 13,
   "id": "5f429b82",
   "metadata": {},
   "outputs": [],
   "source": [
    "image = image.unsqueeze(1).repeat(1, 3, 1, 1)"
   ]
  },
  {
   "cell_type": "code",
   "execution_count": 14,
   "id": "9e499fed",
   "metadata": {},
   "outputs": [
    {
     "data": {
      "text/plain": [
       "torch.Size([313, 3, 256, 256])"
      ]
     },
     "execution_count": 14,
     "metadata": {},
     "output_type": "execute_result"
    }
   ],
   "source": [
    "image.shape"
   ]
  },
  {
   "cell_type": "code",
   "execution_count": null,
   "id": "e705c437",
   "metadata": {},
   "outputs": [],
   "source": []
  }
 ],
 "metadata": {
  "kernelspec": {
   "display_name": "cosmos-predict1",
   "language": "python",
   "name": "python3"
  },
  "language_info": {
   "codemirror_mode": {
    "name": "ipython",
    "version": 3
   },
   "file_extension": ".py",
   "mimetype": "text/x-python",
   "name": "python",
   "nbconvert_exporter": "python",
   "pygments_lexer": "ipython3",
   "version": "3.10.16"
  }
 },
 "nbformat": 4,
 "nbformat_minor": 5
}
