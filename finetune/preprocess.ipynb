{
 "cells": [
  {
   "cell_type": "code",
   "execution_count": 1,
   "metadata": {},
   "outputs": [],
   "source": [
    "import os \n",
    "import pandas as pd \n",
    "import numpy as np "
   ]
  },
  {
   "cell_type": "code",
   "execution_count": null,
   "id": "86c2aa54",
   "metadata": {},
   "outputs": [],
   "source": [
    "path = \"/home/jovyan/shared/tienhuu060102/data-petct/PET_report_paired/PETCT_2019\""
   ]
  },
  {
   "cell_type": "code",
   "execution_count": 3,
   "id": "c609a2ad",
   "metadata": {},
   "outputs": [
    {
     "name": "stdout",
     "output_type": "stream",
     "text": [
      "Found 844 .npy files.\n"
     ]
    }
   ],
   "source": [
    "npy_files = []\n",
    "\n",
    "# Walk through all subdirectories\n",
    "for root, dirs, files in os.walk(path):\n",
    "    for file in files:\n",
    "        if file.endswith(\".npy\"):\n",
    "            full_path = os.path.join(root, file)\n",
    "            npy_files.append(full_path)\n",
    "\n",
    "# Optionally save to a text file\n",
    "with open(\"npy_file_paths.txt\", \"w\") as f:\n",
    "    for file_path in npy_files:\n",
    "        f.write(f\"{file_path}\\n\")\n",
    "\n",
    "print(f\"Found {len(npy_files)} .npy files.\")"
   ]
  },
  {
   "cell_type": "code",
   "execution_count": null,
   "id": "94963170",
   "metadata": {},
   "outputs": [],
   "source": []
  }
 ],
 "metadata": {
  "kernelspec": {
   "display_name": "cosmos-predict1",
   "language": "python",
   "name": "python3"
  },
  "language_info": {
   "codemirror_mode": {
    "name": "ipython",
    "version": 3
   },
   "file_extension": ".py",
   "mimetype": "text/x-python",
   "name": "python",
   "nbconvert_exporter": "python",
   "pygments_lexer": "ipython3",
   "version": "3.10.16"
  }
 },
 "nbformat": 4,
 "nbformat_minor": 5
}
