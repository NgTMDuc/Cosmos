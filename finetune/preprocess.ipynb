{
 "cells": [
  {
   "cell_type": "code",
   "execution_count": 1,
   "metadata": {},
   "outputs": [],
   "source": [
    "import os \n",
    "import pandas as pd \n",
    "import numpy as np "
   ]
  },
  {
   "cell_type": "code",
   "execution_count": 5,
   "id": "86c2aa54",
   "metadata": {},
   "outputs": [],
   "source": [
    "path = \"/home/jovyan/shared/tienhuu060102/data-petct/PET_report_paired/PETCT_2019\""
   ]
  },
  {
   "cell_type": "code",
   "execution_count": 6,
   "id": "c609a2ad",
   "metadata": {},
   "outputs": [
    {
     "name": "stdout",
     "output_type": "stream",
     "text": [
      "Found 1016 .npy files.\n"
     ]
    }
   ],
   "source": [
    "npy_files = []\n",
    "\n",
    "# Walk through all subdirectories\n",
    "for root, dirs, files in os.walk(path):\n",
    "    for file in files:\n",
    "        if file.endswith(\".npy\"):\n",
    "            full_path = os.path.join(root, file)\n",
    "            npy_files.append(full_path)\n",
    "\n",
    "# Optionally save to a text file\n",
    "with open(\"npy_file_paths1.txt\", \"w\") as f:\n",
    "    for file_path in npy_files:\n",
    "        f.write(f\"{file_path}\\n\")\n",
    "\n",
    "print(f\"Found {len(npy_files)} .npy files.\")"
   ]
  },
  {
   "cell_type": "code",
   "execution_count": 7,
   "id": "94963170",
   "metadata": {},
   "outputs": [
    {
     "name": "stdout",
     "output_type": "stream",
     "text": [
      "Saved 1302 train samples and 558 val samples.\n"
     ]
    }
   ],
   "source": [
    "import random\n",
    "\n",
    "# Đọc dữ liệu từ hai file\n",
    "def read_paths(filename):\n",
    "    with open(filename, 'r') as f:\n",
    "        return [line.strip() for line in f.readlines()]\n",
    "\n",
    "paths1 = read_paths(\"npy_file_paths.txt\")\n",
    "paths2 = read_paths(\"npy_file_paths1.txt\")\n",
    "\n",
    "# Gộp và shuffle\n",
    "all_paths = paths1 + paths2\n",
    "random.shuffle(all_paths)\n",
    "\n",
    "# Chia theo tỉ lệ 7:3\n",
    "split_idx = int(0.7 * len(all_paths))\n",
    "train_paths = all_paths[:split_idx]\n",
    "val_paths = all_paths[split_idx:]\n",
    "\n",
    "# Lưu ra file\n",
    "with open(\"train.txt\", \"w\") as f:\n",
    "    for path in train_paths:\n",
    "        f.write(f\"{path}\\n\")\n",
    "\n",
    "with open(\"val.txt\", \"w\") as f:\n",
    "    for path in val_paths:\n",
    "        f.write(f\"{path}\\n\")\n",
    "\n",
    "print(f\"Saved {len(train_paths)} train samples and {len(val_paths)} val samples.\")"
   ]
  },
  {
   "cell_type": "code",
   "execution_count": null,
   "id": "72fe6cc6",
   "metadata": {},
   "outputs": [],
   "source": []
  }
 ],
 "metadata": {
  "kernelspec": {
   "display_name": "cosmos-predict1",
   "language": "python",
   "name": "python3"
  },
  "language_info": {
   "codemirror_mode": {
    "name": "ipython",
    "version": 3
   },
   "file_extension": ".py",
   "mimetype": "text/x-python",
   "name": "python",
   "nbconvert_exporter": "python",
   "pygments_lexer": "ipython3",
   "version": "3.10.16"
  }
 },
 "nbformat": 4,
 "nbformat_minor": 5
}
